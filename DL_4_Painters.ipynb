{
  "cells": [
    {
      "cell_type": "markdown",
      "source": [
        "#Global Variables"
      ],
      "metadata": {
        "id": "D2_fcyjTzhZM"
      }
    },
    {
      "cell_type": "code",
      "execution_count": null,
      "metadata": {
        "id": "cfeuwdRRaWhw"
      },
      "outputs": [],
      "source": [
        "#True = model wordt getraind, False = niet trainen.\n",
        "Train_VGG16 = True\n",
        "#Aantal epochs voor algoritme (default = 20)\n",
        "TVGG16_epochs = 20\n",
        "#Aantal painters die je wenst te voorspellen (default = [\"Mondriaan\",\"Rubens\",\"Picasso\",\"Rembrandt\"])\n",
        "painters = [\"Mondriaan\",\"Rubens\",\"Picasso\",\"Rembrandt\"]\n",
        "#Sampling method (opties = \"undersampling\", \"oversampling\" of \"none\")\n",
        "sampling_method = \"oversampling\"\n",
        "#Locatie waar DL_Paintings_Retrieve notebook staat. (default=\"gdrive/MyDrive/Peter Vantomme - DEEP LEARNING PAINTINGS/DL_Paintings_Retrieve.ipynb\")\n",
        "Paintings_Retrieval_Module_Path = \"gdrive/MyDrive/Peter Vantomme - DEEP LEARNING PAINTINGS/DL_Paintings_Retrieve.ipynb\""
      ]
    },
    {
      "cell_type": "markdown",
      "source": [
        "#Imports & mounting"
      ],
      "metadata": {
        "id": "rQ09ag1Lzkpz"
      }
    },
    {
      "cell_type": "code",
      "execution_count": null,
      "metadata": {
        "colab": {
          "base_uri": "https://localhost:8080/",
          "height": 54
        },
        "id": "EGkUrdXKafXM",
        "outputId": "a85873f3-e08a-42c6-9f41-0a66ad30ff7b"
      },
      "outputs": [
        {
          "output_type": "stream",
          "name": "stdout",
          "text": [
            "Mounted at /content/gdrive\n"
          ]
        },
        {
          "output_type": "execute_result",
          "data": {
            "application/vnd.google.colaboratory.intrinsic+json": {
              "type": "string"
            },
            "text/plain": [
              "'/content/DL_Paintings_Retrieve.ipynb'"
            ]
          },
          "metadata": {},
          "execution_count": 2
        }
      ],
      "source": [
        "from google.colab import drive\n",
        "import os\n",
        "import shutil\n",
        "import pickle\n",
        "import numpy as np\n",
        "from tensorflow.keras.utils import image_dataset_from_directory\n",
        "import tensorflow.keras as keras\n",
        "from tensorflow.keras import layers  \n",
        "import matplotlib.pyplot as plt\n",
        "\n",
        "drive.mount(\"/content/gdrive\")\n",
        "shutil.copyfile(Paintings_Retrieval_Module_Path,os.getcwd()+\"/DL_Paintings_Retrieve.ipynb\")"
      ]
    },
    {
      "cell_type": "code",
      "execution_count": null,
      "metadata": {
        "colab": {
          "base_uri": "https://localhost:8080/"
        },
        "id": "N1Su6kBCahNx",
        "outputId": "1e32c8ce-5a9a-499f-a29d-97352fbfbedb"
      },
      "outputs": [
        {
          "output_type": "stream",
          "name": "stdout",
          "text": [
            "Collecting import-ipynb\n",
            "  Downloading import-ipynb-0.1.3.tar.gz (4.0 kB)\n",
            "Building wheels for collected packages: import-ipynb\n",
            "  Building wheel for import-ipynb (setup.py) ... \u001b[?25l\u001b[?25hdone\n",
            "  Created wheel for import-ipynb: filename=import_ipynb-0.1.3-py3-none-any.whl size=2975 sha256=07eb5049bbf4a5e95f427506e0b24c8faff50de32c9eed94a429c941173e90d4\n",
            "  Stored in directory: /root/.cache/pip/wheels/b1/5e/dc/79780689896a056199b0b9f24471e3ee184fbd816df355d5f0\n",
            "Successfully built import-ipynb\n",
            "Installing collected packages: import-ipynb\n",
            "Successfully installed import-ipynb-0.1.3\n",
            "importing Jupyter notebook from DL_Paintings_Retrieve.ipynb\n",
            "Collecting patool\n",
            "  Downloading patool-1.12-py2.py3-none-any.whl (77 kB)\n",
            "\u001b[K     |████████████████████████████████| 77 kB 4.4 MB/s \n",
            "\u001b[?25hInstalling collected packages: patool\n",
            "Successfully installed patool-1.12\n",
            "Collecting split-folders\n",
            "  Downloading split_folders-0.4.3-py3-none-any.whl (7.4 kB)\n",
            "Installing collected packages: split-folders\n",
            "Successfully installed split-folders-0.4.3\n"
          ]
        }
      ],
      "source": [
        "!pip install import-ipynb\n",
        "import import_ipynb\n",
        "import DL_Paintings_Retrieve as data_r"
      ]
    },
    {
      "cell_type": "code",
      "execution_count": null,
      "metadata": {
        "colab": {
          "base_uri": "https://localhost:8080/"
        },
        "id": "1r-GF9HOah1i",
        "outputId": "11dd8edf-f9ef-4ae2-f906-054a4d24596a"
      },
      "outputs": [
        {
          "output_type": "stream",
          "name": "stdout",
          "text": [
            "Drive already mounted at /content/gdrive; to attempt to forcibly remount, call drive.mount(\"/content/gdrive\", force_remount=True).\n",
            "patool: Extracting Mondriaan.rar ...\n",
            "patool: running /usr/bin/unrar x -- /content/Mondriaan.rar\n",
            "patool:     with cwd='Input'\n",
            "patool: ... Mondriaan.rar extracted to `Input'.\n",
            "patool: Extracting Rubens.rar ...\n",
            "patool: running /usr/bin/unrar x -- /content/Rubens.rar\n",
            "patool:     with cwd='Input'\n",
            "patool: ... Rubens.rar extracted to `Input'.\n",
            "patool: Extracting Picasso.rar ...\n",
            "patool: running /usr/bin/unrar x -- /content/Picasso.rar\n",
            "patool:     with cwd='Input'\n",
            "patool: ... Picasso.rar extracted to `Input'.\n",
            "patool: Extracting Rembrandt.rar ...\n",
            "patool: running /usr/bin/unrar x -- /content/Rembrandt.rar\n",
            "patool:     with cwd='Input'\n",
            "patool: ... Rembrandt.rar extracted to `Input'.\n",
            "\n",
            "No resize done.\n",
            "\n",
            "---- Mondriaan ----\n",
            "{'Train': 231, 'Test': 33, 'Val': 66}\n",
            "---- Rubens ----\n",
            "{'Train': 477, 'Test': 68, 'Val': 137}\n",
            "---- Picasso ----\n",
            "{'Train': 1070, 'Test': 153, 'Val': 306}\n",
            "---- Rembrandt ----\n",
            "{'Train': 146, 'Test': 21, 'Val': 42}\n"
          ]
        },
        {
          "output_type": "stream",
          "name": "stderr",
          "text": [
            "Copying files: 2749 files [00:02, 985.73 files/s]\n"
          ]
        },
        {
          "output_type": "stream",
          "name": "stdout",
          "text": [
            "New training size: 1070 Mondriaan\n",
            "Same File Error, added 1 to counter in order to prevent this from reoccuring.\n",
            "New training size: 1070 Rubens\n",
            "New training size: 1070 Picasso\n",
            "New training size: 1070 Rembrandt\n",
            "Mondriaan\n",
            "Rubens\n",
            "Picasso\n",
            "Rembrandt\n",
            ".config is not an Image, removed...\n",
            "Mondriaan\n",
            "Rubens\n",
            "Picasso\n",
            "Rembrandt\n"
          ]
        }
      ],
      "source": [
        "data_manager = data_r.Data_Setup(painters=painters, resize_mode=\"none\", sampling_method=sampling_method)\n",
        "shape = tuple(data_manager.get_shape_avg())"
      ]
    },
    {
      "cell_type": "markdown",
      "source": [
        "#Dataset splitting"
      ],
      "metadata": {
        "id": "ptOlWyT6znse"
      }
    },
    {
      "cell_type": "code",
      "execution_count": null,
      "metadata": {
        "colab": {
          "base_uri": "https://localhost:8080/"
        },
        "id": "ao5XV_GqakLK",
        "outputId": "c6f00a47-1d8f-4137-a2c7-963aee23597e"
      },
      "outputs": [
        {
          "output_type": "stream",
          "name": "stdout",
          "text": [
            "Found 4280 files belonging to 4 classes.\n",
            "Found 273 files belonging to 4 classes.\n",
            "Found 554 files belonging to 4 classes.\n"
          ]
        }
      ],
      "source": [
        "train_dataset = image_dataset_from_directory(\n",
        "    \"Datasets/train\",\n",
        "    image_size=shape,\n",
        "    batch_size=32)\n",
        "validation_dataset = image_dataset_from_directory(\n",
        "    \"Datasets/val\",\n",
        "    image_size=shape,\n",
        "    batch_size=32)\n",
        "test_dataset = image_dataset_from_directory(\n",
        "    \"Datasets/test\",\n",
        "    image_size=shape,\n",
        "    batch_size=32)"
      ]
    },
    {
      "cell_type": "markdown",
      "source": [
        "#Model development code"
      ],
      "metadata": {
        "id": "af44rSi8zqGS"
      }
    },
    {
      "cell_type": "code",
      "execution_count": null,
      "metadata": {
        "id": "O0gOe3reamY5"
      },
      "outputs": [],
      "source": [
        "def start_training(model, filename, epochs=30):\n",
        "  callbacks = [\n",
        "      keras.callbacks.ModelCheckpoint(\n",
        "          filepath=filename+\".keras\",\n",
        "          save_best_only=True,\n",
        "          monitor=\"val_loss\")\n",
        "  ]\n",
        "  history = model.fit(\n",
        "      train_dataset,\n",
        "      epochs=epochs,\n",
        "      validation_data=validation_dataset,\n",
        "      callbacks=callbacks)\n",
        "  return history"
      ]
    },
    {
      "cell_type": "code",
      "execution_count": null,
      "metadata": {
        "id": "GYzk86NJan9q"
      },
      "outputs": [],
      "source": [
        "def plot_results(history):\n",
        "  accuracy = history.history[\"accuracy\"]\n",
        "  val_accuracy = history.history[\"val_accuracy\"]\n",
        "  loss = history.history[\"loss\"]\n",
        "  val_loss = history.history[\"val_loss\"]\n",
        "  epochs = range(1, len(accuracy) + 1)\n",
        "  plt.plot(epochs, accuracy, \"bo\", label=\"Training accuracy\")\n",
        "  plt.plot(epochs, val_accuracy, \"b\", label=\"Validation accuracy\")\n",
        "  plt.title(\"Training and validation accuracy\")\n",
        "  plt.legend()\n",
        "  plt.figure()\n",
        "  plt.plot(epochs, loss, \"bo\", label=\"Training loss\")\n",
        "  plt.plot(epochs, val_loss, \"b\", label=\"Validation loss\")\n",
        "  plt.title(\"Training and validation loss\")\n",
        "  plt.legend()\n",
        "  plt.show()"
      ]
    },
    {
      "cell_type": "code",
      "execution_count": null,
      "metadata": {
        "id": "JbMwyPjpapsz"
      },
      "outputs": [],
      "source": [
        "def test_model(alg_filename):\n",
        "  test_model = keras.models.load_model(alg_filename+\".keras\")\n",
        "  test_loss, test_acc = test_model.evaluate(test_dataset) \n",
        "  print(f\"Test accuracy: {test_acc:.3f}\")"
      ]
    },
    {
      "cell_type": "code",
      "execution_count": null,
      "metadata": {
        "id": "6bRkX80xarL2"
      },
      "outputs": [],
      "source": [
        "def save_model(savename, model):\n",
        "  filename = savename+\".sav\"\n",
        "  pickle.dump(model, open(filename, 'wb'))"
      ]
    },
    {
      "cell_type": "code",
      "execution_count": null,
      "metadata": {
        "id": "m9MJEpoHasrb"
      },
      "outputs": [],
      "source": [
        "def load_model(savename):\n",
        "  return pickle.load(savename)"
      ]
    },
    {
      "cell_type": "code",
      "execution_count": null,
      "metadata": {
        "id": "hRilhQCgat97",
        "colab": {
          "base_uri": "https://localhost:8080/"
        },
        "outputId": "3ffeb348-54f3-4a2a-b656-0027a75cadb5"
      },
      "outputs": [
        {
          "output_type": "stream",
          "name": "stdout",
          "text": [
            "Downloading data from https://storage.googleapis.com/tensorflow/keras-applications/vgg16/vgg16_weights_tf_dim_ordering_tf_kernels_notop.h5\n",
            "58892288/58889256 [==============================] - 1s 0us/step\n",
            "58900480/58889256 [==============================] - 1s 0us/step\n"
          ]
        }
      ],
      "source": [
        "conv_base = keras.applications.vgg16.VGG16(\n",
        "weights=\"imagenet\",\n",
        "include_top=False\n",
        ")\n",
        "conv_base.trainable = False"
      ]
    },
    {
      "cell_type": "code",
      "execution_count": null,
      "metadata": {
        "id": "7V6Spc7ravm8"
      },
      "outputs": [],
      "source": [
        "def construct_VGG16_DA_model():\n",
        "  data_augmentation = keras.Sequential(\n",
        "    [\n",
        "        layers.RandomFlip(\"horizontal\"),\n",
        "        layers.RandomRotation(0.1),\n",
        "        layers.RandomZoom(0.2),\n",
        "    ]\n",
        "  )\n",
        "  \n",
        "  inputs = keras.Input(shape=(shape[0], shape[1], 3))\n",
        "  x = data_augmentation(inputs)\n",
        "  x = keras.applications.vgg16.preprocess_input(x)\n",
        "  x = conv_base(x)\n",
        "  x = layers.Flatten()(x)\n",
        "  x = layers.Dense(256)(x)\n",
        "  x = layers.Dropout(0.5)(x)\n",
        "  outputs = layers.Dense(4, activation=\"softmax\")(x)\n",
        "  model = keras.Model(inputs, outputs)\n",
        "  model.compile(loss=\"sparse_categorical_crossentropy\",\n",
        "                optimizer=\"rmsprop\",\n",
        "                metrics=[\"accuracy\"])\n",
        "\n",
        "  return model"
      ]
    },
    {
      "cell_type": "code",
      "execution_count": null,
      "metadata": {
        "colab": {
          "base_uri": "https://localhost:8080/",
          "height": 1000
        },
        "id": "HUpkryUcaxHZ",
        "outputId": "e4fa8a37-375d-4e86-e591-60c1d39e25c7"
      },
      "outputs": [
        {
          "output_type": "stream",
          "name": "stdout",
          "text": [
            "\n",
            "---- Training & testing of VGG16 model for three painters ----\n",
            "\n",
            "\n",
            "---- Training ----\n",
            "\n",
            "Epoch 1/20\n",
            "134/134 [==============================] - 472s 3s/step - loss: 143.4390 - accuracy: 0.8292 - val_loss: 64.9494 - val_accuracy: 0.8645\n",
            "Epoch 2/20\n",
            "134/134 [==============================] - 332s 2s/step - loss: 30.7743 - accuracy: 0.9353 - val_loss: 166.2109 - val_accuracy: 0.7912\n",
            "Epoch 3/20\n",
            "134/134 [==============================] - 332s 2s/step - loss: 23.9737 - accuracy: 0.9547 - val_loss: 43.6458 - val_accuracy: 0.9267\n",
            "Epoch 4/20\n",
            "134/134 [==============================] - 331s 2s/step - loss: 16.4021 - accuracy: 0.9657 - val_loss: 45.7454 - val_accuracy: 0.9194\n",
            "Epoch 5/20\n",
            "134/134 [==============================] - 332s 2s/step - loss: 13.5232 - accuracy: 0.9666 - val_loss: 38.1163 - val_accuracy: 0.9341\n",
            "Epoch 6/20\n",
            "134/134 [==============================] - 331s 2s/step - loss: 11.8607 - accuracy: 0.9748 - val_loss: 63.1054 - val_accuracy: 0.9194\n",
            "Epoch 7/20\n",
            "134/134 [==============================] - 331s 2s/step - loss: 10.0217 - accuracy: 0.9769 - val_loss: 34.7575 - val_accuracy: 0.9451\n",
            "Epoch 8/20\n",
            "134/134 [==============================] - 331s 2s/step - loss: 10.0992 - accuracy: 0.9806 - val_loss: 31.3927 - val_accuracy: 0.9487\n",
            "Epoch 9/20\n",
            "134/134 [==============================] - 330s 2s/step - loss: 8.0456 - accuracy: 0.9818 - val_loss: 36.8310 - val_accuracy: 0.9487\n",
            "Epoch 10/20\n",
            "134/134 [==============================] - 330s 2s/step - loss: 7.8658 - accuracy: 0.9848 - val_loss: 33.6600 - val_accuracy: 0.9451\n",
            "Epoch 11/20\n",
            "134/134 [==============================] - 330s 2s/step - loss: 7.6146 - accuracy: 0.9862 - val_loss: 33.6827 - val_accuracy: 0.9487\n",
            "Epoch 12/20\n",
            "134/134 [==============================] - 331s 2s/step - loss: 6.9753 - accuracy: 0.9876 - val_loss: 27.0054 - val_accuracy: 0.9487\n",
            "Epoch 13/20\n",
            "134/134 [==============================] - 330s 2s/step - loss: 4.0403 - accuracy: 0.9874 - val_loss: 33.8351 - val_accuracy: 0.9341\n",
            "Epoch 14/20\n",
            "134/134 [==============================] - 331s 2s/step - loss: 5.8991 - accuracy: 0.9879 - val_loss: 27.7682 - val_accuracy: 0.9597\n",
            "Epoch 15/20\n",
            "134/134 [==============================] - 331s 2s/step - loss: 6.4722 - accuracy: 0.9867 - val_loss: 28.7792 - val_accuracy: 0.9560\n",
            "Epoch 16/20\n",
            "134/134 [==============================] - 332s 2s/step - loss: 6.0525 - accuracy: 0.9881 - val_loss: 23.4486 - val_accuracy: 0.9524\n",
            "Epoch 17/20\n",
            "134/134 [==============================] - 331s 2s/step - loss: 4.7933 - accuracy: 0.9890 - val_loss: 58.3670 - val_accuracy: 0.9377\n",
            "Epoch 18/20\n",
            "134/134 [==============================] - 330s 2s/step - loss: 5.2006 - accuracy: 0.9900 - val_loss: 35.0475 - val_accuracy: 0.9451\n",
            "Epoch 19/20\n",
            "134/134 [==============================] - 330s 2s/step - loss: 4.4443 - accuracy: 0.9904 - val_loss: 28.2425 - val_accuracy: 0.9451\n",
            "Epoch 20/20\n",
            "134/134 [==============================] - 331s 2s/step - loss: 6.3926 - accuracy: 0.9874 - val_loss: 47.0744 - val_accuracy: 0.9414\n",
            "\n",
            "---- Results ----\n",
            "\n"
          ]
        },
        {
          "output_type": "display_data",
          "data": {
            "image/png": "[encoded data removed]",
            "text/plain": [
              "<Figure size 432x288 with 1 Axes>"
            ]
          },
          "metadata": {
            "needs_background": "light"
          }
        },
        {
          "output_type": "display_data",
          "data": {
            "image/png": "[encoded data removed]",
            "text/plain": [
              "<Figure size 432x288 with 1 Axes>"
            ]
          },
          "metadata": {
            "needs_background": "light"
          }
        },
        {
          "output_type": "stream",
          "name": "stdout",
          "text": [
            "\n",
            "---- Test ----\n",
            "\n",
            "18/18 [==============================] - 60s 3s/step - loss: 26.7768 - accuracy: 0.9693\n",
            "Test accuracy: 0.969\n"
          ]
        }
      ],
      "source": [
        "if Train_VGG16:\n",
        "  print(\"\\n---- Training & testing of VGG16 model for three painters ----\\n\")\n",
        "  filename = \"4P_VGG16\"\n",
        "  P4_VGG16_model_DA = construct_VGG16_DA_model()\n",
        "  print(\"\\n---- Training ----\\n\")\n",
        "  history = start_training(P4_VGG16_model_DA, filename, epochs=TVGG16_epochs)\n",
        "  print(\"\\n---- Results ----\\n\")\n",
        "  plot_results(history)\n",
        "  print(\"\\n---- Test ----\\n\")\n",
        "  test_model(filename)\n",
        "else:\n",
        "  print(\"\\n---- Training & testing of VGG16 model for two painters skipped ----\\n\")"
      ]
    },
    {
      "cell_type": "code",
      "source": [
        "model = keras.models.load_model(\"4P_VGG16\"+\".keras\")\n",
        "model.save(\"DefinitiveModel.h5\")"
      ],
      "metadata": {
        "id": "heViX8NErCLJ"
      },
      "execution_count": null,
      "outputs": []
    }
  ],
  "metadata": {
    "colab": {
      "name": "DL_4_Painters",
      "provenance": [],
      "collapsed_sections": []
    },
    "kernelspec": {
      "display_name": "Python 3",
      "name": "python3"
    },
    "language_info": {
      "name": "python"
    },
    "accelerator": "GPU"
  },
  "nbformat": 4,
  "nbformat_minor": 0
}