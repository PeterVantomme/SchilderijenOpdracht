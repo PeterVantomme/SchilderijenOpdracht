{
  "cells": [
    {
      "cell_type": "code",
      "execution_count": null,
      "metadata": {
        "id": "RmCtQKMd5PYx"
      },
      "outputs": [],
      "source": [
        "Train_VGG16 = True\n",
        "TVGG16_epochs = 20\n",
        "painters = [\"Mondriaan\",\"Rubens\",\"Picasso\"]\n",
        "sampling_method = \"oversampling\"\n",
        "Paintings_Retrieval_Module_Path = \"gdrive/MyDrive/Peter Vantomme - DEEP LEARNING PAINTINGS/DL_Paintings_Retrieve.ipynb\""
      ]
    },
    {
      "cell_type": "code",
      "execution_count": null,
      "metadata": {
        "colab": {
          "base_uri": "https://localhost:8080/",
          "height": 54
        },
        "id": "A-Ff0O-N5fRm",
        "outputId": "5ef929b2-f859-40dc-cc44-344ff8671002"
      },
      "outputs": [
        {
          "output_type": "stream",
          "name": "stdout",
          "text": [
            "Mounted at /content/gdrive\n"
          ]
        },
        {
          "output_type": "execute_result",
          "data": {
            "application/vnd.google.colaboratory.intrinsic+json": {
              "type": "string"
            },
            "text/plain": [
              "'/content/DL_Paintings_Retrieve.ipynb'"
            ]
          },
          "metadata": {},
          "execution_count": 2
        }
      ],
      "source": [
        "from google.colab import drive\n",
        "import os\n",
        "import shutil\n",
        "import pickle\n",
        "import numpy as np\n",
        "from tensorflow.keras.utils import image_dataset_from_directory\n",
        "from tensorflow import keras \n",
        "from tensorflow.keras import layers  \n",
        "import matplotlib.pyplot as plt\n",
        "\n",
        "drive.mount(\"/content/gdrive\")\n",
        "shutil.copyfile(Paintings_Retrieval_Module_Path,os.getcwd()+\"/DL_Paintings_Retrieve.ipynb\")"
      ]
    },
    {
      "cell_type": "code",
      "execution_count": null,
      "metadata": {
        "colab": {
          "base_uri": "https://localhost:8080/"
        },
        "id": "Hhj7GWyd5hmW",
        "outputId": "1329c9fb-e2d3-4874-e9dc-16981bfce81d"
      },
      "outputs": [
        {
          "output_type": "stream",
          "name": "stdout",
          "text": [
            "Collecting import-ipynb\n",
            "  Downloading import-ipynb-0.1.3.tar.gz (4.0 kB)\n",
            "Building wheels for collected packages: import-ipynb\n",
            "  Building wheel for import-ipynb (setup.py) ... \u001b[?25l\u001b[?25hdone\n",
            "  Created wheel for import-ipynb: filename=import_ipynb-0.1.3-py3-none-any.whl size=2975 sha256=a1c0f5dbcba249bb2b221a01049245735050f5b984b2d5857aa3645948cd6900\n",
            "  Stored in directory: /root/.cache/pip/wheels/b1/5e/dc/79780689896a056199b0b9f24471e3ee184fbd816df355d5f0\n",
            "Successfully built import-ipynb\n",
            "Installing collected packages: import-ipynb\n",
            "Successfully installed import-ipynb-0.1.3\n",
            "importing Jupyter notebook from DL_Paintings_Retrieve.ipynb\n",
            "Collecting patool\n",
            "  Downloading patool-1.12-py2.py3-none-any.whl (77 kB)\n",
            "\u001b[K     |████████████████████████████████| 77 kB 3.3 MB/s \n",
            "\u001b[?25hInstalling collected packages: patool\n",
            "Successfully installed patool-1.12\n",
            "Collecting split-folders\n",
            "  Downloading split_folders-0.4.3-py3-none-any.whl (7.4 kB)\n",
            "Installing collected packages: split-folders\n",
            "Successfully installed split-folders-0.4.3\n"
          ]
        }
      ],
      "source": [
        "!pip install import-ipynb\n",
        "import import_ipynb\n",
        "import DL_Paintings_Retrieve as data_r"
      ]
    },
    {
      "cell_type": "code",
      "execution_count": null,
      "metadata": {
        "colab": {
          "base_uri": "https://localhost:8080/"
        },
        "id": "GS9It-EO5jjj",
        "outputId": "c2e2413f-6dbf-46fc-98e4-81c52cb7b3b7"
      },
      "outputs": [
        {
          "output_type": "stream",
          "name": "stdout",
          "text": [
            "Drive already mounted at /content/gdrive; to attempt to forcibly remount, call drive.mount(\"/content/gdrive\", force_remount=True).\n",
            "patool: Extracting Mondriaan.rar ...\n",
            "patool: running /usr/bin/unrar x -- /content/Mondriaan.rar\n",
            "patool:     with cwd='Input'\n",
            "patool: ... Mondriaan.rar extracted to `Input'.\n",
            "patool: Extracting Rubens.rar ...\n",
            "patool: running /usr/bin/unrar x -- /content/Rubens.rar\n",
            "patool:     with cwd='Input'\n",
            "patool: ... Rubens.rar extracted to `Input'.\n",
            "patool: Extracting Picasso.rar ...\n",
            "patool: running /usr/bin/unrar x -- /content/Picasso.rar\n",
            "patool:     with cwd='Input'\n",
            "patool: ... Picasso.rar extracted to `Input'.\n",
            "\n",
            "No resize done.\n",
            "\n",
            "---- Mondriaan ----\n",
            "{'Train': 231, 'Test': 33, 'Val': 66}\n",
            "---- Rubens ----\n",
            "{'Train': 477, 'Test': 68, 'Val': 137}\n",
            "---- Picasso ----\n",
            "{'Train': 1070, 'Test': 153, 'Val': 306}\n"
          ]
        },
        {
          "output_type": "stream",
          "name": "stderr",
          "text": [
            "Copying files: 2541 files [00:02, 890.44 files/s]\n"
          ]
        },
        {
          "output_type": "stream",
          "name": "stdout",
          "text": [
            "New training size: 1070 Mondriaan\n",
            "New training size: 1070 Rubens\n",
            "New training size: 1070 Picasso\n",
            "Mondriaan\n",
            "Rubens\n",
            "Picasso\n",
            "Mondriaan\n",
            "Rubens\n",
            "Picasso\n"
          ]
        }
      ],
      "source": [
        "data_manager = data_r.Data_Setup(painters=painters, resize_mode=\"none\", sampling_method=sampling_method)\n",
        "shape = tuple(data_manager.get_shape_avg())"
      ]
    },
    {
      "cell_type": "code",
      "execution_count": null,
      "metadata": {
        "colab": {
          "base_uri": "https://localhost:8080/"
        },
        "id": "A2XJ5n9I5vgP",
        "outputId": "d7b72173-b251-4af0-f1b5-cc2454c3b2a9"
      },
      "outputs": [
        {
          "output_type": "stream",
          "name": "stdout",
          "text": [
            "Found 1777 files belonging to 3 classes.\n",
            "Found 253 files belonging to 3 classes.\n",
            "Found 511 files belonging to 3 classes.\n"
          ]
        }
      ],
      "source": [
        "train_dataset = image_dataset_from_directory(\n",
        "    \"Datasets/train\",\n",
        "    image_size=shape,\n",
        "    batch_size=32)\n",
        "validation_dataset = image_dataset_from_directory(\n",
        "    \"Datasets/val\",\n",
        "    image_size=shape,\n",
        "    batch_size=32)\n",
        "test_dataset = image_dataset_from_directory(\n",
        "    \"Datasets/test\",\n",
        "    image_size=shape,\n",
        "    batch_size=32)"
      ]
    },
    {
      "cell_type": "code",
      "execution_count": null,
      "metadata": {
        "id": "81hqpNzB5wce"
      },
      "outputs": [],
      "source": [
        "def start_training(model, filename, epochs=30):\n",
        "  callbacks = [\n",
        "      keras.callbacks.ModelCheckpoint(\n",
        "          filepath=filename+\".keras\",\n",
        "          save_best_only=True,\n",
        "          monitor=\"val_loss\")\n",
        "  ]\n",
        "  history = model.fit(\n",
        "      train_dataset,\n",
        "      epochs=epochs,\n",
        "      validation_data=validation_dataset,\n",
        "      callbacks=callbacks)\n",
        "  return history"
      ]
    },
    {
      "cell_type": "code",
      "execution_count": null,
      "metadata": {
        "id": "eXel0iZ2525X"
      },
      "outputs": [],
      "source": [
        "def plot_results(history):\n",
        "  accuracy = history.history[\"accuracy\"]\n",
        "  val_accuracy = history.history[\"val_accuracy\"]\n",
        "  loss = history.history[\"loss\"]\n",
        "  val_loss = history.history[\"val_loss\"]\n",
        "  epochs = range(1, len(accuracy) + 1)\n",
        "  plt.plot(epochs, accuracy, \"bo\", label=\"Training accuracy\")\n",
        "  plt.plot(epochs, val_accuracy, \"b\", label=\"Validation accuracy\")\n",
        "  plt.title(\"Training and validation accuracy\")\n",
        "  plt.legend()\n",
        "  plt.figure()\n",
        "  plt.plot(epochs, loss, \"bo\", label=\"Training loss\")\n",
        "  plt.plot(epochs, val_loss, \"b\", label=\"Validation loss\")\n",
        "  plt.title(\"Training and validation loss\")\n",
        "  plt.legend()\n",
        "  plt.show()"
      ]
    },
    {
      "cell_type": "code",
      "execution_count": null,
      "metadata": {
        "id": "rsV-owyj576J"
      },
      "outputs": [],
      "source": [
        "def test_model(alg_filename):\n",
        "  test_model = keras.models.load_model(alg_filename+\".keras\")\n",
        "  test_loss, test_acc = test_model.evaluate(test_dataset) \n",
        "  print(f\"Test accuracy: {test_acc:.3f}\")"
      ]
    },
    {
      "cell_type": "code",
      "execution_count": null,
      "metadata": {
        "id": "JnjDBanY58qQ"
      },
      "outputs": [],
      "source": [
        "def save_model(savename, model):\n",
        "  filename = savename+\".sav\"\n",
        "  pickle.dump(model, open(filename, 'wb'))"
      ]
    },
    {
      "cell_type": "code",
      "execution_count": null,
      "metadata": {
        "id": "MTBwNnpN5_Bk"
      },
      "outputs": [],
      "source": [
        "def load_model(savename):\n",
        "  return pickle.load(savename)"
      ]
    },
    {
      "cell_type": "code",
      "execution_count": null,
      "metadata": {
        "colab": {
          "base_uri": "https://localhost:8080/"
        },
        "id": "FjJ-0RVD6BzC",
        "outputId": "d72f5ba8-9886-44a3-ed17-89d3ee8de4fb"
      },
      "outputs": [
        {
          "output_type": "stream",
          "name": "stdout",
          "text": [
            "Downloading data from https://storage.googleapis.com/tensorflow/keras-applications/vgg16/vgg16_weights_tf_dim_ordering_tf_kernels_notop.h5\n",
            "58892288/58889256 [==============================] - 1s 0us/step\n",
            "58900480/58889256 [==============================] - 1s 0us/step\n"
          ]
        }
      ],
      "source": [
        "conv_base = keras.applications.vgg16.VGG16(\n",
        "weights=\"imagenet\",\n",
        "include_top=False\n",
        ")\n",
        "conv_base.trainable = False"
      ]
    },
    {
      "cell_type": "code",
      "execution_count": null,
      "metadata": {
        "id": "YQFVQrbf6F2u"
      },
      "outputs": [],
      "source": [
        "def construct_VGG16_DA_model():\n",
        "  data_augmentation = keras.Sequential(\n",
        "    [\n",
        "        layers.RandomFlip(\"horizontal\"),\n",
        "        layers.RandomRotation(0.1),\n",
        "        layers.RandomZoom(0.2),\n",
        "    ]\n",
        "  )\n",
        "  \n",
        "  inputs = keras.Input(shape=(shape[0], shape[1], 3))\n",
        "  x = data_augmentation(inputs)\n",
        "  x = keras.applications.vgg16.preprocess_input(x)\n",
        "  x = conv_base(x)\n",
        "  x = layers.Flatten()(x)\n",
        "  x = layers.Dense(256)(x)\n",
        "  x = layers.Dropout(0.5)(x)\n",
        "  outputs = layers.Dense(3, activation=\"softmax\")(x)\n",
        "  model = keras.Model(inputs, outputs)\n",
        "  model.compile(loss=\"sparse_categorical_crossentropy\",\n",
        "                optimizer=\"rmsprop\",\n",
        "                metrics=[\"accuracy\"])\n",
        "\n",
        "  return model"
      ]
    },
    {
      "cell_type": "code",
      "execution_count": null,
      "metadata": {
        "colab": {
          "base_uri": "https://localhost:8080/",
          "height": 1000
        },
        "id": "T917IOMU6IC2",
        "outputId": "35c44bd6-90b5-417c-c43a-b57f755db645"
      },
      "outputs": [
        {
          "output_type": "stream",
          "name": "stdout",
          "text": [
            "\n",
            "---- Training & testing of VGG16 model for three painters ----\n",
            "\n",
            "\n",
            "---- Training ----\n",
            "\n",
            "Epoch 1/20\n",
            "56/56 [==============================] - 347s 5s/step - loss: 192.8007 - accuracy: 0.8244 - val_loss: 19.4322 - val_accuracy: 0.9605\n",
            "Epoch 2/20\n",
            "56/56 [==============================] - 167s 3s/step - loss: 64.8076 - accuracy: 0.9043 - val_loss: 14.2789 - val_accuracy: 0.9605\n",
            "Epoch 3/20\n",
            "56/56 [==============================] - 165s 3s/step - loss: 51.3058 - accuracy: 0.9297 - val_loss: 32.4428 - val_accuracy: 0.9249\n",
            "Epoch 4/20\n",
            "56/56 [==============================] - 165s 3s/step - loss: 26.4177 - accuracy: 0.9522 - val_loss: 51.5020 - val_accuracy: 0.9209\n",
            "Epoch 5/20\n",
            "56/56 [==============================] - 165s 3s/step - loss: 26.3749 - accuracy: 0.9533 - val_loss: 15.8422 - val_accuracy: 0.9723\n",
            "Epoch 6/20\n",
            "56/56 [==============================] - 165s 3s/step - loss: 20.3973 - accuracy: 0.9600 - val_loss: 33.4600 - val_accuracy: 0.9368\n",
            "Epoch 7/20\n",
            "56/56 [==============================] - 165s 3s/step - loss: 15.1973 - accuracy: 0.9662 - val_loss: 19.0207 - val_accuracy: 0.9723\n",
            "Epoch 8/20\n",
            "56/56 [==============================] - 165s 3s/step - loss: 19.0363 - accuracy: 0.9662 - val_loss: 15.8980 - val_accuracy: 0.9644\n",
            "Epoch 9/20\n",
            "56/56 [==============================] - 166s 3s/step - loss: 15.5201 - accuracy: 0.9702 - val_loss: 14.0634 - val_accuracy: 0.9802\n",
            "Epoch 10/20\n",
            "56/56 [==============================] - 165s 3s/step - loss: 8.5157 - accuracy: 0.9809 - val_loss: 24.3767 - val_accuracy: 0.9644\n",
            "Epoch 11/20\n",
            "56/56 [==============================] - 165s 3s/step - loss: 12.5238 - accuracy: 0.9741 - val_loss: 20.2808 - val_accuracy: 0.9723\n",
            "Epoch 12/20\n",
            "56/56 [==============================] - 165s 3s/step - loss: 15.6492 - accuracy: 0.9690 - val_loss: 22.5117 - val_accuracy: 0.9684\n",
            "Epoch 13/20\n",
            "56/56 [==============================] - 164s 3s/step - loss: 12.7778 - accuracy: 0.9724 - val_loss: 20.8062 - val_accuracy: 0.9644\n",
            "Epoch 14/20\n",
            "56/56 [==============================] - 165s 3s/step - loss: 10.1689 - accuracy: 0.9775 - val_loss: 21.3824 - val_accuracy: 0.9723\n",
            "Epoch 15/20\n",
            "56/56 [==============================] - 165s 3s/step - loss: 8.8315 - accuracy: 0.9814 - val_loss: 18.7261 - val_accuracy: 0.9763\n",
            "Epoch 16/20\n",
            "56/56 [==============================] - 165s 3s/step - loss: 4.6371 - accuracy: 0.9916 - val_loss: 19.1355 - val_accuracy: 0.9763\n",
            "Epoch 17/20\n",
            "56/56 [==============================] - 165s 3s/step - loss: 13.4528 - accuracy: 0.9775 - val_loss: 15.9052 - val_accuracy: 0.9802\n",
            "Epoch 18/20\n",
            "56/56 [==============================] - 164s 3s/step - loss: 12.6779 - accuracy: 0.9736 - val_loss: 18.2683 - val_accuracy: 0.9723\n",
            "Epoch 19/20\n",
            "56/56 [==============================] - 166s 3s/step - loss: 6.2654 - accuracy: 0.9831 - val_loss: 12.8831 - val_accuracy: 0.9763\n",
            "Epoch 20/20\n",
            "56/56 [==============================] - 165s 3s/step - loss: 8.9782 - accuracy: 0.9826 - val_loss: 13.9811 - val_accuracy: 0.9763\n",
            "\n",
            "---- Results ----\n",
            "\n"
          ]
        },
        {
          "output_type": "display_data",
          "data": {
            "image/png": "[encoded data removed]",
            "text/plain": [
              "<Figure size 432x288 with 1 Axes>"
            ]
          },
          "metadata": {
            "needs_background": "light"
          }
        },
        {
          "output_type": "display_data",
          "data": {
            "image/png": "[encoded data removed]",
            "text/plain": [
              "<Figure size 432x288 with 1 Axes>"
            ]
          },
          "metadata": {
            "needs_background": "light"
          }
        },
        {
          "output_type": "stream",
          "name": "stdout",
          "text": [
            "\n",
            "---- Test ----\n",
            "\n",
            "16/16 [==============================] - 106s 7s/step - loss: 27.2803 - accuracy: 0.9609\n",
            "Test accuracy: 0.961\n"
          ]
        }
      ],
      "source": [
        "if Train_VGG16:\n",
        "  print(\"\\n---- Training & testing of VGG16 model for three painters ----\\n\")\n",
        "  filename = \"3P_VGG16\"\n",
        "  P3_VGG16_model_DA = construct_VGG16_DA_model()\n",
        "  print(\"\\n---- Training ----\\n\")\n",
        "  history = start_training(P3_VGG16_model_DA, filename, epochs=TVGG16_epochs)\n",
        "  print(\"\\n---- Results ----\\n\")\n",
        "  plot_results(history)\n",
        "  print(\"\\n---- Test ----\\n\")\n",
        "  test_model(filename)\n",
        "else:\n",
        "  print(\"\\n---- Training & testing of VGG16 model for two painters skipped ----\\n\")"
      ]
    }
  ],
  "metadata": {
    "accelerator": "GPU",
    "colab": {
      "name": "DL_3_Painters",
      "provenance": [],
      "collapsed_sections": []
    },
    "kernelspec": {
      "display_name": "Python 3",
      "name": "python3"
    },
    "language_info": {
      "name": "python"
    }
  },
  "nbformat": 4,
  "nbformat_minor": 0
}